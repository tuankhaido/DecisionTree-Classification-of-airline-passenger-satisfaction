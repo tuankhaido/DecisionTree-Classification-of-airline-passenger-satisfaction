{
 "cells": [
  {
   "cell_type": "markdown",
   "metadata": {},
   "source": [
    "# 1- Load the dataset and Exploratory Data Analysis (EDA)"
   ]
  },
  {
   "cell_type": "code",
   "metadata": {
    "ExecuteTime": {
     "end_time": "2024-11-27T10:48:00.445301Z",
     "start_time": "2024-11-27T10:48:00.439254Z"
    }
   },
   "source": [
    "# %pip install seaborn matplotlib pandas numpy kaggle scikit-learn\n",
    "# %pip install c45-decision-tree"
   ],
   "outputs": [],
   "execution_count": 1
  },
  {
   "cell_type": "code",
   "metadata": {
    "ExecuteTime": {
     "end_time": "2024-11-27T10:48:00.480427Z",
     "start_time": "2024-11-27T10:48:00.474798Z"
    }
   },
   "source": [
    "import seaborn as sns\n",
    "import matplotlib.pyplot as plt\n",
    "import pandas as pd\n",
    "import numpy as np"
   ],
   "outputs": [],
   "execution_count": 2
  },
  {
   "cell_type": "markdown",
   "metadata": {},
   "source": [
    "# Load and read the dataset"
   ]
  },
  {
   "cell_type": "code",
   "metadata": {
    "ExecuteTime": {
     "end_time": "2024-11-27T10:48:00.531544Z",
     "start_time": "2024-11-27T10:48:00.524480Z"
    }
   },
   "source": [
    "# import kagglehub\n",
    "# import shutil\n",
    "\n",
    "# default_path = kagglehub.dataset_download(\"teejmahal20/airline-passenger-satisfaction\")\n",
    "\n",
    "# custom_path = \"DataMining/input\"\n",
    "# shutil.move(default_path, custom_path)\n",
    "\n",
    "# print(\"Dataset has been moved to:\", custom_path)\n"
   ],
   "outputs": [],
   "execution_count": 3
  },
  {
   "cell_type": "code",
   "metadata": {
    "execution": {
     "iopub.execute_input": "2024-10-26T08:50:59.937514Z",
     "iopub.status.busy": "2024-10-26T08:50:59.937039Z",
     "iopub.status.idle": "2024-10-26T08:51:02.131325Z",
     "shell.execute_reply": "2024-10-26T08:51:02.129944Z",
     "shell.execute_reply.started": "2024-10-26T08:50:59.937473Z"
    },
    "trusted": true,
    "ExecuteTime": {
     "end_time": "2024-11-27T10:48:01.344635Z",
     "start_time": "2024-11-27T10:48:00.899742Z"
    }
   },
   "source": [
    "import pandas as pd\n",
    "x_test=pd.read_csv('./DataMining/input/test.csv')\n",
    "x_train=pd.read_csv('./DataMining/input/train.csv')\n",
    "df=pd.concat([x_train,x_test])"
   ],
   "outputs": [],
   "execution_count": 4
  },
  {
   "cell_type": "markdown",
   "metadata": {},
   "source": [
    "# Information dataset"
   ]
  },
  {
   "cell_type": "code",
   "metadata": {
    "ExecuteTime": {
     "end_time": "2024-11-27T10:48:01.389123Z",
     "start_time": "2024-11-27T10:48:01.380836Z"
    }
   },
   "source": [
    "data_rows,data_columns = df.shape\n",
    "print(f'số hàng {data_rows}, số cột {data_columns}')"
   ],
   "outputs": [
    {
     "name": "stdout",
     "output_type": "stream",
     "text": [
      "số hàng 129880, số cột 25\n"
     ]
    }
   ],
   "execution_count": 5
  },
  {
   "cell_type": "code",
   "metadata": {
    "execution": {
     "iopub.execute_input": "2024-10-26T08:51:24.744336Z",
     "iopub.status.busy": "2024-10-26T08:51:24.743512Z",
     "iopub.status.idle": "2024-10-26T08:51:24.752802Z",
     "shell.execute_reply": "2024-10-26T08:51:24.751565Z",
     "shell.execute_reply.started": "2024-10-26T08:51:24.744291Z"
    },
    "trusted": true,
    "ExecuteTime": {
     "end_time": "2024-11-27T10:48:01.523287Z",
     "start_time": "2024-11-27T10:48:01.475328Z"
    }
   },
   "source": [
    "pd.set_option('display.max_columns', None)\n",
    "pd.set_option('display.expand_frame_repr', False)\n",
    "df.head(5)"
   ],
   "outputs": [
    {
     "data": {
      "text/plain": [
       "   Unnamed: 0      id  Gender      Customer Type  Age   Type of Travel     Class  Flight Distance  Inflight wifi service  Departure/Arrival time convenient  Ease of Online booking  Gate location  Food and drink  Online boarding  Seat comfort  Inflight entertainment  On-board service  Leg room service  Baggage handling  Checkin service  Inflight service  Cleanliness  Departure Delay in Minutes  Arrival Delay in Minutes             satisfaction\n",
       "0           0   70172    Male     Loyal Customer   13  Personal Travel  Eco Plus              460                      3                                  4                       3              1               5                3             5                       5                 4                 3                 4                4                 5            5                          25                      18.0  neutral or dissatisfied\n",
       "1           1    5047    Male  disloyal Customer   25  Business travel  Business              235                      3                                  2                       3              3               1                3             1                       1                 1                 5                 3                1                 4            1                           1                       6.0  neutral or dissatisfied\n",
       "2           2  110028  Female     Loyal Customer   26  Business travel  Business             1142                      2                                  2                       2              2               5                5             5                       5                 4                 3                 4                4                 4            5                           0                       0.0                satisfied\n",
       "3           3   24026  Female     Loyal Customer   25  Business travel  Business              562                      2                                  5                       5              5               2                2             2                       2                 2                 5                 3                1                 4            2                          11                       9.0  neutral or dissatisfied\n",
       "4           4  119299    Male     Loyal Customer   61  Business travel  Business              214                      3                                  3                       3              3               4                5             5                       3                 3                 4                 4                3                 3            3                           0                       0.0                satisfied"
      ],
      "text/html": [
       "<div>\n",
       "<style scoped>\n",
       "    .dataframe tbody tr th:only-of-type {\n",
       "        vertical-align: middle;\n",
       "    }\n",
       "\n",
       "    .dataframe tbody tr th {\n",
       "        vertical-align: top;\n",
       "    }\n",
       "\n",
       "    .dataframe thead th {\n",
       "        text-align: right;\n",
       "    }\n",
       "</style>\n",
       "<table border=\"1\" class=\"dataframe\">\n",
       "  <thead>\n",
       "    <tr style=\"text-align: right;\">\n",
       "      <th></th>\n",
       "      <th>Unnamed: 0</th>\n",
       "      <th>id</th>\n",
       "      <th>Gender</th>\n",
       "      <th>Customer Type</th>\n",
       "      <th>Age</th>\n",
       "      <th>Type of Travel</th>\n",
       "      <th>Class</th>\n",
       "      <th>Flight Distance</th>\n",
       "      <th>Inflight wifi service</th>\n",
       "      <th>Departure/Arrival time convenient</th>\n",
       "      <th>Ease of Online booking</th>\n",
       "      <th>Gate location</th>\n",
       "      <th>Food and drink</th>\n",
       "      <th>Online boarding</th>\n",
       "      <th>Seat comfort</th>\n",
       "      <th>Inflight entertainment</th>\n",
       "      <th>On-board service</th>\n",
       "      <th>Leg room service</th>\n",
       "      <th>Baggage handling</th>\n",
       "      <th>Checkin service</th>\n",
       "      <th>Inflight service</th>\n",
       "      <th>Cleanliness</th>\n",
       "      <th>Departure Delay in Minutes</th>\n",
       "      <th>Arrival Delay in Minutes</th>\n",
       "      <th>satisfaction</th>\n",
       "    </tr>\n",
       "  </thead>\n",
       "  <tbody>\n",
       "    <tr>\n",
       "      <th>0</th>\n",
       "      <td>0</td>\n",
       "      <td>70172</td>\n",
       "      <td>Male</td>\n",
       "      <td>Loyal Customer</td>\n",
       "      <td>13</td>\n",
       "      <td>Personal Travel</td>\n",
       "      <td>Eco Plus</td>\n",
       "      <td>460</td>\n",
       "      <td>3</td>\n",
       "      <td>4</td>\n",
       "      <td>3</td>\n",
       "      <td>1</td>\n",
       "      <td>5</td>\n",
       "      <td>3</td>\n",
       "      <td>5</td>\n",
       "      <td>5</td>\n",
       "      <td>4</td>\n",
       "      <td>3</td>\n",
       "      <td>4</td>\n",
       "      <td>4</td>\n",
       "      <td>5</td>\n",
       "      <td>5</td>\n",
       "      <td>25</td>\n",
       "      <td>18.0</td>\n",
       "      <td>neutral or dissatisfied</td>\n",
       "    </tr>\n",
       "    <tr>\n",
       "      <th>1</th>\n",
       "      <td>1</td>\n",
       "      <td>5047</td>\n",
       "      <td>Male</td>\n",
       "      <td>disloyal Customer</td>\n",
       "      <td>25</td>\n",
       "      <td>Business travel</td>\n",
       "      <td>Business</td>\n",
       "      <td>235</td>\n",
       "      <td>3</td>\n",
       "      <td>2</td>\n",
       "      <td>3</td>\n",
       "      <td>3</td>\n",
       "      <td>1</td>\n",
       "      <td>3</td>\n",
       "      <td>1</td>\n",
       "      <td>1</td>\n",
       "      <td>1</td>\n",
       "      <td>5</td>\n",
       "      <td>3</td>\n",
       "      <td>1</td>\n",
       "      <td>4</td>\n",
       "      <td>1</td>\n",
       "      <td>1</td>\n",
       "      <td>6.0</td>\n",
       "      <td>neutral or dissatisfied</td>\n",
       "    </tr>\n",
       "    <tr>\n",
       "      <th>2</th>\n",
       "      <td>2</td>\n",
       "      <td>110028</td>\n",
       "      <td>Female</td>\n",
       "      <td>Loyal Customer</td>\n",
       "      <td>26</td>\n",
       "      <td>Business travel</td>\n",
       "      <td>Business</td>\n",
       "      <td>1142</td>\n",
       "      <td>2</td>\n",
       "      <td>2</td>\n",
       "      <td>2</td>\n",
       "      <td>2</td>\n",
       "      <td>5</td>\n",
       "      <td>5</td>\n",
       "      <td>5</td>\n",
       "      <td>5</td>\n",
       "      <td>4</td>\n",
       "      <td>3</td>\n",
       "      <td>4</td>\n",
       "      <td>4</td>\n",
       "      <td>4</td>\n",
       "      <td>5</td>\n",
       "      <td>0</td>\n",
       "      <td>0.0</td>\n",
       "      <td>satisfied</td>\n",
       "    </tr>\n",
       "    <tr>\n",
       "      <th>3</th>\n",
       "      <td>3</td>\n",
       "      <td>24026</td>\n",
       "      <td>Female</td>\n",
       "      <td>Loyal Customer</td>\n",
       "      <td>25</td>\n",
       "      <td>Business travel</td>\n",
       "      <td>Business</td>\n",
       "      <td>562</td>\n",
       "      <td>2</td>\n",
       "      <td>5</td>\n",
       "      <td>5</td>\n",
       "      <td>5</td>\n",
       "      <td>2</td>\n",
       "      <td>2</td>\n",
       "      <td>2</td>\n",
       "      <td>2</td>\n",
       "      <td>2</td>\n",
       "      <td>5</td>\n",
       "      <td>3</td>\n",
       "      <td>1</td>\n",
       "      <td>4</td>\n",
       "      <td>2</td>\n",
       "      <td>11</td>\n",
       "      <td>9.0</td>\n",
       "      <td>neutral or dissatisfied</td>\n",
       "    </tr>\n",
       "    <tr>\n",
       "      <th>4</th>\n",
       "      <td>4</td>\n",
       "      <td>119299</td>\n",
       "      <td>Male</td>\n",
       "      <td>Loyal Customer</td>\n",
       "      <td>61</td>\n",
       "      <td>Business travel</td>\n",
       "      <td>Business</td>\n",
       "      <td>214</td>\n",
       "      <td>3</td>\n",
       "      <td>3</td>\n",
       "      <td>3</td>\n",
       "      <td>3</td>\n",
       "      <td>4</td>\n",
       "      <td>5</td>\n",
       "      <td>5</td>\n",
       "      <td>3</td>\n",
       "      <td>3</td>\n",
       "      <td>4</td>\n",
       "      <td>4</td>\n",
       "      <td>3</td>\n",
       "      <td>3</td>\n",
       "      <td>3</td>\n",
       "      <td>0</td>\n",
       "      <td>0.0</td>\n",
       "      <td>satisfied</td>\n",
       "    </tr>\n",
       "  </tbody>\n",
       "</table>\n",
       "</div>"
      ]
     },
     "execution_count": 6,
     "metadata": {},
     "output_type": "execute_result"
    }
   ],
   "execution_count": 6
  },
  {
   "cell_type": "code",
   "metadata": {
    "execution": {
     "iopub.execute_input": "2024-09-25T15:55:02.646029Z",
     "iopub.status.busy": "2024-09-25T15:55:02.645749Z",
     "iopub.status.idle": "2024-09-25T15:55:02.651885Z",
     "shell.execute_reply": "2024-09-25T15:55:02.651077Z",
     "shell.execute_reply.started": "2024-09-25T15:55:02.645998Z"
    },
    "trusted": true,
    "ExecuteTime": {
     "end_time": "2024-11-27T10:48:01.672471Z",
     "start_time": "2024-11-27T10:48:01.657940Z"
    }
   },
   "source": [
    "df.columns"
   ],
   "outputs": [
    {
     "data": {
      "text/plain": [
       "Index(['Unnamed: 0', 'id', 'Gender', 'Customer Type', 'Age', 'Type of Travel',\n",
       "       'Class', 'Flight Distance', 'Inflight wifi service',\n",
       "       'Departure/Arrival time convenient', 'Ease of Online booking',\n",
       "       'Gate location', 'Food and drink', 'Online boarding', 'Seat comfort',\n",
       "       'Inflight entertainment', 'On-board service', 'Leg room service',\n",
       "       'Baggage handling', 'Checkin service', 'Inflight service',\n",
       "       'Cleanliness', 'Departure Delay in Minutes', 'Arrival Delay in Minutes',\n",
       "       'satisfaction'],\n",
       "      dtype='object')"
      ]
     },
     "execution_count": 7,
     "metadata": {},
     "output_type": "execute_result"
    }
   ],
   "execution_count": 7
  },
  {
   "cell_type": "code",
   "metadata": {
    "execution": {
     "iopub.execute_input": "2024-09-25T15:55:02.653537Z",
     "iopub.status.busy": "2024-09-25T15:55:02.653157Z",
     "iopub.status.idle": "2024-09-25T15:55:02.729071Z",
     "shell.execute_reply": "2024-09-25T15:55:02.728299Z",
     "shell.execute_reply.started": "2024-09-25T15:55:02.653496Z"
    },
    "trusted": true,
    "ExecuteTime": {
     "end_time": "2024-11-27T10:48:02.118102Z",
     "start_time": "2024-11-27T10:48:02.041439Z"
    }
   },
   "source": [
    "df.info()"
   ],
   "outputs": [
    {
     "name": "stdout",
     "output_type": "stream",
     "text": [
      "<class 'pandas.core.frame.DataFrame'>\n",
      "Index: 129880 entries, 0 to 25975\n",
      "Data columns (total 25 columns):\n",
      " #   Column                             Non-Null Count   Dtype  \n",
      "---  ------                             --------------   -----  \n",
      " 0   Unnamed: 0                         129880 non-null  int64  \n",
      " 1   id                                 129880 non-null  int64  \n",
      " 2   Gender                             129880 non-null  object \n",
      " 3   Customer Type                      129880 non-null  object \n",
      " 4   Age                                129880 non-null  int64  \n",
      " 5   Type of Travel                     129880 non-null  object \n",
      " 6   Class                              129880 non-null  object \n",
      " 7   Flight Distance                    129880 non-null  int64  \n",
      " 8   Inflight wifi service              129880 non-null  int64  \n",
      " 9   Departure/Arrival time convenient  129880 non-null  int64  \n",
      " 10  Ease of Online booking             129880 non-null  int64  \n",
      " 11  Gate location                      129880 non-null  int64  \n",
      " 12  Food and drink                     129880 non-null  int64  \n",
      " 13  Online boarding                    129880 non-null  int64  \n",
      " 14  Seat comfort                       129880 non-null  int64  \n",
      " 15  Inflight entertainment             129880 non-null  int64  \n",
      " 16  On-board service                   129880 non-null  int64  \n",
      " 17  Leg room service                   129880 non-null  int64  \n",
      " 18  Baggage handling                   129880 non-null  int64  \n",
      " 19  Checkin service                    129880 non-null  int64  \n",
      " 20  Inflight service                   129880 non-null  int64  \n",
      " 21  Cleanliness                        129880 non-null  int64  \n",
      " 22  Departure Delay in Minutes         129880 non-null  int64  \n",
      " 23  Arrival Delay in Minutes           129487 non-null  float64\n",
      " 24  satisfaction                       129880 non-null  object \n",
      "dtypes: float64(1), int64(19), object(5)\n",
      "memory usage: 25.8+ MB\n"
     ]
    }
   ],
   "execution_count": 8
  },
  {
   "cell_type": "code",
   "metadata": {
    "execution": {
     "iopub.execute_input": "2024-09-25T15:55:02.756791Z",
     "iopub.status.busy": "2024-09-25T15:55:02.756523Z",
     "iopub.status.idle": "2024-09-25T15:55:02.827632Z",
     "shell.execute_reply": "2024-09-25T15:55:02.826816Z",
     "shell.execute_reply.started": "2024-09-25T15:55:02.756761Z"
    },
    "trusted": true,
    "ExecuteTime": {
     "end_time": "2024-11-27T10:48:02.671187Z",
     "start_time": "2024-11-27T10:48:02.521048Z"
    }
   },
   "source": [
    "df.nunique()"
   ],
   "outputs": [
    {
     "data": {
      "text/plain": [
       "Unnamed: 0                           103904\n",
       "id                                   129880\n",
       "Gender                                    2\n",
       "Customer Type                             2\n",
       "Age                                      75\n",
       "Type of Travel                            2\n",
       "Class                                     3\n",
       "Flight Distance                        3821\n",
       "Inflight wifi service                     6\n",
       "Departure/Arrival time convenient         6\n",
       "Ease of Online booking                    6\n",
       "Gate location                             6\n",
       "Food and drink                            6\n",
       "Online boarding                           6\n",
       "Seat comfort                              6\n",
       "Inflight entertainment                    6\n",
       "On-board service                          6\n",
       "Leg room service                          6\n",
       "Baggage handling                          5\n",
       "Checkin service                           6\n",
       "Inflight service                          6\n",
       "Cleanliness                               6\n",
       "Departure Delay in Minutes              466\n",
       "Arrival Delay in Minutes                472\n",
       "satisfaction                              2\n",
       "dtype: int64"
      ]
     },
     "execution_count": 9,
     "metadata": {},
     "output_type": "execute_result"
    }
   ],
   "execution_count": 9
  },
  {
   "cell_type": "markdown",
   "metadata": {},
   "source": [
    "Finding duplicate values\n"
   ]
  },
  {
   "cell_type": "code",
   "metadata": {
    "ExecuteTime": {
     "end_time": "2024-11-27T10:48:03.256561Z",
     "start_time": "2024-11-27T10:48:02.881254Z"
    }
   },
   "source": [
    "num_duplicates = df.duplicated().sum()\n",
    "num_duplicates"
   ],
   "outputs": [
    {
     "data": {
      "text/plain": [
       "np.int64(0)"
      ]
     },
     "execution_count": 10,
     "metadata": {},
     "output_type": "execute_result"
    }
   ],
   "execution_count": 10
  },
  {
   "cell_type": "markdown",
   "metadata": {},
   "source": [
    "Checking for missing values and handling them"
   ]
  },
  {
   "cell_type": "code",
   "metadata": {
    "ExecuteTime": {
     "end_time": "2024-11-27T10:48:03.499494Z",
     "start_time": "2024-11-27T10:48:03.439659Z"
    }
   },
   "source": [
    "df.isnull().sum()"
   ],
   "outputs": [
    {
     "data": {
      "text/plain": [
       "Unnamed: 0                             0\n",
       "id                                     0\n",
       "Gender                                 0\n",
       "Customer Type                          0\n",
       "Age                                    0\n",
       "Type of Travel                         0\n",
       "Class                                  0\n",
       "Flight Distance                        0\n",
       "Inflight wifi service                  0\n",
       "Departure/Arrival time convenient      0\n",
       "Ease of Online booking                 0\n",
       "Gate location                          0\n",
       "Food and drink                         0\n",
       "Online boarding                        0\n",
       "Seat comfort                           0\n",
       "Inflight entertainment                 0\n",
       "On-board service                       0\n",
       "Leg room service                       0\n",
       "Baggage handling                       0\n",
       "Checkin service                        0\n",
       "Inflight service                       0\n",
       "Cleanliness                            0\n",
       "Departure Delay in Minutes             0\n",
       "Arrival Delay in Minutes             393\n",
       "satisfaction                           0\n",
       "dtype: int64"
      ]
     },
     "execution_count": 11,
     "metadata": {},
     "output_type": "execute_result"
    }
   ],
   "execution_count": 11
  },
  {
   "cell_type": "code",
   "metadata": {
    "ExecuteTime": {
     "end_time": "2024-11-27T10:48:03.797911Z",
     "start_time": "2024-11-27T10:48:03.786229Z"
    }
   },
   "source": [
    "\n",
    "# df['Arrival Delay in Minutes'].hist(bins=50)\n",
    "# plt.title('Histogram of Arrival Delay in Minutes')"
   ],
   "outputs": [],
   "execution_count": 12
  },
  {
   "cell_type": "markdown",
   "metadata": {},
   "source": [
    "* Arrival Delay in Minutes có xu hướng lệch phải nên ta thay thế null bằng median"
   ]
  },
  {
   "cell_type": "code",
   "metadata": {
    "ExecuteTime": {
     "end_time": "2024-11-27T10:48:04.310372Z",
     "start_time": "2024-11-27T10:48:04.271388Z"
    }
   },
   "source": [
    "df['Arrival Delay in Minutes'] = df['Arrival Delay in Minutes'].fillna(df['Arrival Delay in Minutes'].median())\n",
    "df['Arrival Delay in Minutes'].isnull().sum()"
   ],
   "outputs": [
    {
     "data": {
      "text/plain": [
       "np.int64(0)"
      ]
     },
     "execution_count": 13,
     "metadata": {},
     "output_type": "execute_result"
    }
   ],
   "execution_count": 13
  },
  {
   "cell_type": "code",
   "metadata": {
    "ExecuteTime": {
     "end_time": "2024-11-27T10:48:04.774174Z",
     "start_time": "2024-11-27T10:48:04.765574Z"
    }
   },
   "source": [
    "df['Arrival Delay in Minutes'].isnull().sum()"
   ],
   "outputs": [
    {
     "data": {
      "text/plain": [
       "np.int64(0)"
      ]
     },
     "execution_count": 14,
     "metadata": {},
     "output_type": "execute_result"
    }
   ],
   "execution_count": 14
  },
  {
   "cell_type": "markdown",
   "metadata": {},
   "source": [
    "# Seperating numeric and object values\n"
   ]
  },
  {
   "cell_type": "code",
   "metadata": {
    "ExecuteTime": {
     "end_time": "2024-11-27T10:48:04.941345Z",
     "start_time": "2024-11-27T10:48:04.894090Z"
    }
   },
   "source": [
    "numeric=df.select_dtypes(exclude='object')\n",
    "object_data=df.select_dtypes('object')"
   ],
   "outputs": [],
   "execution_count": 15
  },
  {
   "cell_type": "code",
   "metadata": {
    "ExecuteTime": {
     "end_time": "2024-11-27T10:48:05.036086Z",
     "start_time": "2024-11-27T10:48:05.027673Z"
    }
   },
   "source": [
    "numeric.shape\n"
   ],
   "outputs": [
    {
     "data": {
      "text/plain": [
       "(129880, 20)"
      ]
     },
     "execution_count": 16,
     "metadata": {},
     "output_type": "execute_result"
    }
   ],
   "execution_count": 16
  },
  {
   "cell_type": "code",
   "metadata": {
    "ExecuteTime": {
     "end_time": "2024-11-27T10:48:05.119239Z",
     "start_time": "2024-11-27T10:48:05.110920Z"
    }
   },
   "source": [
    "object_data.shape"
   ],
   "outputs": [
    {
     "data": {
      "text/plain": [
       "(129880, 5)"
      ]
     },
     "execution_count": 17,
     "metadata": {},
     "output_type": "execute_result"
    }
   ],
   "execution_count": 17
  },
  {
   "cell_type": "markdown",
   "metadata": {},
   "source": [
    "# Numeric data distribution plots"
   ]
  },
  {
   "cell_type": "code",
   "metadata": {
    "ExecuteTime": {
     "end_time": "2024-11-27T10:48:05.466640Z",
     "start_time": "2024-11-27T10:48:05.437066Z"
    }
   },
   "source": [
    "numeric.info()"
   ],
   "outputs": [
    {
     "name": "stdout",
     "output_type": "stream",
     "text": [
      "<class 'pandas.core.frame.DataFrame'>\n",
      "Index: 129880 entries, 0 to 25975\n",
      "Data columns (total 20 columns):\n",
      " #   Column                             Non-Null Count   Dtype  \n",
      "---  ------                             --------------   -----  \n",
      " 0   Unnamed: 0                         129880 non-null  int64  \n",
      " 1   id                                 129880 non-null  int64  \n",
      " 2   Age                                129880 non-null  int64  \n",
      " 3   Flight Distance                    129880 non-null  int64  \n",
      " 4   Inflight wifi service              129880 non-null  int64  \n",
      " 5   Departure/Arrival time convenient  129880 non-null  int64  \n",
      " 6   Ease of Online booking             129880 non-null  int64  \n",
      " 7   Gate location                      129880 non-null  int64  \n",
      " 8   Food and drink                     129880 non-null  int64  \n",
      " 9   Online boarding                    129880 non-null  int64  \n",
      " 10  Seat comfort                       129880 non-null  int64  \n",
      " 11  Inflight entertainment             129880 non-null  int64  \n",
      " 12  On-board service                   129880 non-null  int64  \n",
      " 13  Leg room service                   129880 non-null  int64  \n",
      " 14  Baggage handling                   129880 non-null  int64  \n",
      " 15  Checkin service                    129880 non-null  int64  \n",
      " 16  Inflight service                   129880 non-null  int64  \n",
      " 17  Cleanliness                        129880 non-null  int64  \n",
      " 18  Departure Delay in Minutes         129880 non-null  int64  \n",
      " 19  Arrival Delay in Minutes           129880 non-null  float64\n",
      "dtypes: float64(1), int64(19)\n",
      "memory usage: 20.8 MB\n"
     ]
    }
   ],
   "execution_count": 18
  },
  {
   "cell_type": "code",
   "metadata": {
    "ExecuteTime": {
     "end_time": "2024-11-27T10:48:06.109482Z",
     "start_time": "2024-11-27T10:48:06.104387Z"
    }
   },
   "source": [
    "# fig, axes = plt.subplots(nrows=10, ncols=2, figsize=(15, 45), dpi=300)\n",
    "# axes = axes.flatten()\n",
    "\n",
    "# for idx, col in enumerate(numeric.columns):\n",
    "#     sns.boxplot(x=numeric[col], ax=axes[idx])\n",
    "#     axes[idx].set_xlabel(col)\n",
    "#     axes[idx].set_title(f'{col} Boxplot')\n",
    "#     axes[idx].tick_params(axis='x', rotation=45)\n",
    "\n",
    "# plt.tight_layout()\n",
    "# plt.show()\n"
   ],
   "outputs": [],
   "execution_count": 19
  },
  {
   "cell_type": "markdown",
   "metadata": {},
   "source": [
    "# Object data distribution plots"
   ]
  },
  {
   "cell_type": "code",
   "metadata": {
    "ExecuteTime": {
     "end_time": "2024-11-27T10:48:06.783289Z",
     "start_time": "2024-11-27T10:48:06.758310Z"
    }
   },
   "source": [
    "object_data"
   ],
   "outputs": [
    {
     "data": {
      "text/plain": [
       "       Gender      Customer Type   Type of Travel     Class             satisfaction\n",
       "0        Male     Loyal Customer  Personal Travel  Eco Plus  neutral or dissatisfied\n",
       "1        Male  disloyal Customer  Business travel  Business  neutral or dissatisfied\n",
       "2      Female     Loyal Customer  Business travel  Business                satisfied\n",
       "3      Female     Loyal Customer  Business travel  Business  neutral or dissatisfied\n",
       "4        Male     Loyal Customer  Business travel  Business                satisfied\n",
       "...       ...                ...              ...       ...                      ...\n",
       "25971    Male  disloyal Customer  Business travel  Business  neutral or dissatisfied\n",
       "25972    Male     Loyal Customer  Business travel  Business                satisfied\n",
       "25973  Female     Loyal Customer  Personal Travel       Eco  neutral or dissatisfied\n",
       "25974    Male     Loyal Customer  Business travel  Business                satisfied\n",
       "25975  Female     Loyal Customer  Personal Travel       Eco  neutral or dissatisfied\n",
       "\n",
       "[129880 rows x 5 columns]"
      ],
      "text/html": [
       "<div>\n",
       "<style scoped>\n",
       "    .dataframe tbody tr th:only-of-type {\n",
       "        vertical-align: middle;\n",
       "    }\n",
       "\n",
       "    .dataframe tbody tr th {\n",
       "        vertical-align: top;\n",
       "    }\n",
       "\n",
       "    .dataframe thead th {\n",
       "        text-align: right;\n",
       "    }\n",
       "</style>\n",
       "<table border=\"1\" class=\"dataframe\">\n",
       "  <thead>\n",
       "    <tr style=\"text-align: right;\">\n",
       "      <th></th>\n",
       "      <th>Gender</th>\n",
       "      <th>Customer Type</th>\n",
       "      <th>Type of Travel</th>\n",
       "      <th>Class</th>\n",
       "      <th>satisfaction</th>\n",
       "    </tr>\n",
       "  </thead>\n",
       "  <tbody>\n",
       "    <tr>\n",
       "      <th>0</th>\n",
       "      <td>Male</td>\n",
       "      <td>Loyal Customer</td>\n",
       "      <td>Personal Travel</td>\n",
       "      <td>Eco Plus</td>\n",
       "      <td>neutral or dissatisfied</td>\n",
       "    </tr>\n",
       "    <tr>\n",
       "      <th>1</th>\n",
       "      <td>Male</td>\n",
       "      <td>disloyal Customer</td>\n",
       "      <td>Business travel</td>\n",
       "      <td>Business</td>\n",
       "      <td>neutral or dissatisfied</td>\n",
       "    </tr>\n",
       "    <tr>\n",
       "      <th>2</th>\n",
       "      <td>Female</td>\n",
       "      <td>Loyal Customer</td>\n",
       "      <td>Business travel</td>\n",
       "      <td>Business</td>\n",
       "      <td>satisfied</td>\n",
       "    </tr>\n",
       "    <tr>\n",
       "      <th>3</th>\n",
       "      <td>Female</td>\n",
       "      <td>Loyal Customer</td>\n",
       "      <td>Business travel</td>\n",
       "      <td>Business</td>\n",
       "      <td>neutral or dissatisfied</td>\n",
       "    </tr>\n",
       "    <tr>\n",
       "      <th>4</th>\n",
       "      <td>Male</td>\n",
       "      <td>Loyal Customer</td>\n",
       "      <td>Business travel</td>\n",
       "      <td>Business</td>\n",
       "      <td>satisfied</td>\n",
       "    </tr>\n",
       "    <tr>\n",
       "      <th>...</th>\n",
       "      <td>...</td>\n",
       "      <td>...</td>\n",
       "      <td>...</td>\n",
       "      <td>...</td>\n",
       "      <td>...</td>\n",
       "    </tr>\n",
       "    <tr>\n",
       "      <th>25971</th>\n",
       "      <td>Male</td>\n",
       "      <td>disloyal Customer</td>\n",
       "      <td>Business travel</td>\n",
       "      <td>Business</td>\n",
       "      <td>neutral or dissatisfied</td>\n",
       "    </tr>\n",
       "    <tr>\n",
       "      <th>25972</th>\n",
       "      <td>Male</td>\n",
       "      <td>Loyal Customer</td>\n",
       "      <td>Business travel</td>\n",
       "      <td>Business</td>\n",
       "      <td>satisfied</td>\n",
       "    </tr>\n",
       "    <tr>\n",
       "      <th>25973</th>\n",
       "      <td>Female</td>\n",
       "      <td>Loyal Customer</td>\n",
       "      <td>Personal Travel</td>\n",
       "      <td>Eco</td>\n",
       "      <td>neutral or dissatisfied</td>\n",
       "    </tr>\n",
       "    <tr>\n",
       "      <th>25974</th>\n",
       "      <td>Male</td>\n",
       "      <td>Loyal Customer</td>\n",
       "      <td>Business travel</td>\n",
       "      <td>Business</td>\n",
       "      <td>satisfied</td>\n",
       "    </tr>\n",
       "    <tr>\n",
       "      <th>25975</th>\n",
       "      <td>Female</td>\n",
       "      <td>Loyal Customer</td>\n",
       "      <td>Personal Travel</td>\n",
       "      <td>Eco</td>\n",
       "      <td>neutral or dissatisfied</td>\n",
       "    </tr>\n",
       "  </tbody>\n",
       "</table>\n",
       "<p>129880 rows × 5 columns</p>\n",
       "</div>"
      ]
     },
     "execution_count": 20,
     "metadata": {},
     "output_type": "execute_result"
    }
   ],
   "execution_count": 20
  },
  {
   "cell_type": "code",
   "metadata": {
    "ExecuteTime": {
     "end_time": "2024-11-27T10:48:07.242330Z",
     "start_time": "2024-11-27T10:48:07.229725Z"
    }
   },
   "source": [
    "\n",
    "# col = object_data.columns\n",
    "# n = len(col)\n",
    "# fig, axes = plt.subplots(3, 2, figsize=(15, 12), dpi=300)  # Tạo lưới 3x2\n",
    "# axes = axes.flatten()  # Chuyển mảng `axes` thành dạng 1D để dễ truy cập\n",
    "\n",
    "# for i, column in enumerate(col):\n",
    "#     counts = object_data[column].value_counts()\n",
    "\n",
    "#     axes[i].pie(\n",
    "#         counts.values,\n",
    "#         labels=counts.index,\n",
    "#         autopct='%1.1f%%',\n",
    "#         colors=[(0.5, 0.6, 0.5), (0.4, 0.8, 0.7), (0.3, 0.7, 0.6)]\n",
    "#     )\n",
    "#     axes[i].set_title(f'Pie chart for {column}')\n",
    "\n",
    "# # Ẩn các ô dư thừa nếu số cột ít hơn 6\n",
    "# for j in range(i + 1, len(axes)):\n",
    "#     axes[j].axis('off')\n",
    "\n",
    "# plt.tight_layout()\n",
    "# plt.show()\n"
   ],
   "outputs": [],
   "execution_count": 21
  },
  {
   "cell_type": "markdown",
   "metadata": {},
   "source": [
    "# Target distrubution"
   ]
  },
  {
   "cell_type": "code",
   "metadata": {
    "ExecuteTime": {
     "end_time": "2024-11-27T10:48:07.401816Z",
     "start_time": "2024-11-27T10:48:07.390166Z"
    }
   },
   "source": [
    "# counts=object_data['satisfaction'].value_counts()\n",
    "\n",
    "# fig, axes=plt.subplots(nrows=1, ncols=2,figsize=(12,8),dpi=300)\n",
    "# axes.flatten()\n",
    "\n",
    "# axes[0].pie(counts.values,labels=counts.index,autopct='%1.1f%%',colors=[(0.5, 0.6, 0.5),(0.4, 0.8, 0.7)])\n",
    "# axes[0].set_title('Target piechart')\n",
    "# axes[1].bar(counts.index,counts.values,color=[(0.2,0.5,0.5),(0.4, 0.8, 0.7)])\n",
    "# axes[1].set_title('Target barchart')\n",
    "# axes[1].tick_params(axis='x',rotation=45)\n",
    "# plt.show()"
   ],
   "outputs": [],
   "execution_count": 22
  },
  {
   "cell_type": "markdown",
   "metadata": {},
   "source": [
    "# 2- Data Preprocessing"
   ]
  },
  {
   "cell_type": "markdown",
   "metadata": {},
   "source": [
    "# Data Cleaning"
   ]
  },
  {
   "cell_type": "markdown",
   "metadata": {},
   "source": [
    "Remove unnecessary columns"
   ]
  },
  {
   "cell_type": "code",
   "metadata": {
    "execution": {
     "iopub.execute_input": "2024-09-25T15:55:02.730238Z",
     "iopub.status.busy": "2024-09-25T15:55:02.729968Z",
     "iopub.status.idle": "2024-09-25T15:55:02.755601Z",
     "shell.execute_reply": "2024-09-25T15:55:02.75493Z",
     "shell.execute_reply.started": "2024-09-25T15:55:02.730207Z"
    },
    "trusted": true,
    "ExecuteTime": {
     "end_time": "2024-11-27T10:48:07.610891Z",
     "start_time": "2024-11-27T10:48:07.513127Z"
    }
   },
   "source": [
    "x_train=x_train.drop(['Unnamed: 0', 'id'],axis=1)\n",
    "x_test=x_test.drop(['Unnamed: 0', 'id'],axis=1)\n",
    "df=df.drop(['Unnamed: 0', 'id'],axis=1)"
   ],
   "outputs": [],
   "execution_count": 23
  },
  {
   "cell_type": "code",
   "metadata": {
    "ExecuteTime": {
     "end_time": "2024-11-27T10:48:07.715033Z",
     "start_time": "2024-11-27T10:48:07.697629Z"
    }
   },
   "source": [
    "numeric= numeric.drop(['Unnamed: 0', 'id'],axis=1)"
   ],
   "outputs": [],
   "execution_count": 24
  },
  {
   "cell_type": "code",
   "metadata": {
    "execution": {
     "iopub.execute_input": "2024-09-25T15:55:02.907756Z",
     "iopub.status.busy": "2024-09-25T15:55:02.907316Z",
     "iopub.status.idle": "2024-09-25T15:55:03.033504Z",
     "shell.execute_reply": "2024-09-25T15:55:03.032541Z",
     "shell.execute_reply.started": "2024-09-25T15:55:02.907722Z"
    },
    "trusted": true,
    "ExecuteTime": {
     "end_time": "2024-11-27T10:48:08.232118Z",
     "start_time": "2024-11-27T10:48:07.907378Z"
    }
   },
   "source": [
    "df.describe()"
   ],
   "outputs": [
    {
     "data": {
      "text/plain": [
       "                 Age  Flight Distance  Inflight wifi service  Departure/Arrival time convenient  Ease of Online booking  Gate location  Food and drink  Online boarding   Seat comfort  Inflight entertainment  On-board service  Leg room service  Baggage handling  Checkin service  Inflight service    Cleanliness  Departure Delay in Minutes  Arrival Delay in Minutes\n",
       "count  129880.000000    129880.000000          129880.000000                      129880.000000           129880.000000  129880.000000   129880.000000    129880.000000  129880.000000           129880.000000     129880.000000     129880.000000     129880.000000    129880.000000     129880.000000  129880.000000               129880.000000             129880.000000\n",
       "mean       39.427957      1190.316392               2.728696                           3.057599                2.756876       2.976925        3.204774         3.252633       3.441361                3.358077          3.383023          3.350878          3.632114         3.306267          3.642193       3.286326                   14.713713                 15.045465\n",
       "std        15.119360       997.452477               1.329340                           1.526741                1.401740       1.278520        1.329933         1.350719       1.319289                1.334049          1.287099          1.316252          1.180025         1.266185          1.176669       1.313682                   38.071126                 38.416353\n",
       "min         7.000000        31.000000               0.000000                           0.000000                0.000000       0.000000        0.000000         0.000000       0.000000                0.000000          0.000000          0.000000          1.000000         0.000000          0.000000       0.000000                    0.000000                  0.000000\n",
       "25%        27.000000       414.000000               2.000000                           2.000000                2.000000       2.000000        2.000000         2.000000       2.000000                2.000000          2.000000          2.000000          3.000000         3.000000          3.000000       2.000000                    0.000000                  0.000000\n",
       "50%        40.000000       844.000000               3.000000                           3.000000                3.000000       3.000000        3.000000         3.000000       4.000000                4.000000          4.000000          4.000000          4.000000         3.000000          4.000000       3.000000                    0.000000                  0.000000\n",
       "75%        51.000000      1744.000000               4.000000                           4.000000                4.000000       4.000000        4.000000         4.000000       5.000000                4.000000          4.000000          4.000000          5.000000         4.000000          5.000000       4.000000                   12.000000                 13.000000\n",
       "max        85.000000      4983.000000               5.000000                           5.000000                5.000000       5.000000        5.000000         5.000000       5.000000                5.000000          5.000000          5.000000          5.000000         5.000000          5.000000       5.000000                 1592.000000               1584.000000"
      ],
      "text/html": [
       "<div>\n",
       "<style scoped>\n",
       "    .dataframe tbody tr th:only-of-type {\n",
       "        vertical-align: middle;\n",
       "    }\n",
       "\n",
       "    .dataframe tbody tr th {\n",
       "        vertical-align: top;\n",
       "    }\n",
       "\n",
       "    .dataframe thead th {\n",
       "        text-align: right;\n",
       "    }\n",
       "</style>\n",
       "<table border=\"1\" class=\"dataframe\">\n",
       "  <thead>\n",
       "    <tr style=\"text-align: right;\">\n",
       "      <th></th>\n",
       "      <th>Age</th>\n",
       "      <th>Flight Distance</th>\n",
       "      <th>Inflight wifi service</th>\n",
       "      <th>Departure/Arrival time convenient</th>\n",
       "      <th>Ease of Online booking</th>\n",
       "      <th>Gate location</th>\n",
       "      <th>Food and drink</th>\n",
       "      <th>Online boarding</th>\n",
       "      <th>Seat comfort</th>\n",
       "      <th>Inflight entertainment</th>\n",
       "      <th>On-board service</th>\n",
       "      <th>Leg room service</th>\n",
       "      <th>Baggage handling</th>\n",
       "      <th>Checkin service</th>\n",
       "      <th>Inflight service</th>\n",
       "      <th>Cleanliness</th>\n",
       "      <th>Departure Delay in Minutes</th>\n",
       "      <th>Arrival Delay in Minutes</th>\n",
       "    </tr>\n",
       "  </thead>\n",
       "  <tbody>\n",
       "    <tr>\n",
       "      <th>count</th>\n",
       "      <td>129880.000000</td>\n",
       "      <td>129880.000000</td>\n",
       "      <td>129880.000000</td>\n",
       "      <td>129880.000000</td>\n",
       "      <td>129880.000000</td>\n",
       "      <td>129880.000000</td>\n",
       "      <td>129880.000000</td>\n",
       "      <td>129880.000000</td>\n",
       "      <td>129880.000000</td>\n",
       "      <td>129880.000000</td>\n",
       "      <td>129880.000000</td>\n",
       "      <td>129880.000000</td>\n",
       "      <td>129880.000000</td>\n",
       "      <td>129880.000000</td>\n",
       "      <td>129880.000000</td>\n",
       "      <td>129880.000000</td>\n",
       "      <td>129880.000000</td>\n",
       "      <td>129880.000000</td>\n",
       "    </tr>\n",
       "    <tr>\n",
       "      <th>mean</th>\n",
       "      <td>39.427957</td>\n",
       "      <td>1190.316392</td>\n",
       "      <td>2.728696</td>\n",
       "      <td>3.057599</td>\n",
       "      <td>2.756876</td>\n",
       "      <td>2.976925</td>\n",
       "      <td>3.204774</td>\n",
       "      <td>3.252633</td>\n",
       "      <td>3.441361</td>\n",
       "      <td>3.358077</td>\n",
       "      <td>3.383023</td>\n",
       "      <td>3.350878</td>\n",
       "      <td>3.632114</td>\n",
       "      <td>3.306267</td>\n",
       "      <td>3.642193</td>\n",
       "      <td>3.286326</td>\n",
       "      <td>14.713713</td>\n",
       "      <td>15.045465</td>\n",
       "    </tr>\n",
       "    <tr>\n",
       "      <th>std</th>\n",
       "      <td>15.119360</td>\n",
       "      <td>997.452477</td>\n",
       "      <td>1.329340</td>\n",
       "      <td>1.526741</td>\n",
       "      <td>1.401740</td>\n",
       "      <td>1.278520</td>\n",
       "      <td>1.329933</td>\n",
       "      <td>1.350719</td>\n",
       "      <td>1.319289</td>\n",
       "      <td>1.334049</td>\n",
       "      <td>1.287099</td>\n",
       "      <td>1.316252</td>\n",
       "      <td>1.180025</td>\n",
       "      <td>1.266185</td>\n",
       "      <td>1.176669</td>\n",
       "      <td>1.313682</td>\n",
       "      <td>38.071126</td>\n",
       "      <td>38.416353</td>\n",
       "    </tr>\n",
       "    <tr>\n",
       "      <th>min</th>\n",
       "      <td>7.000000</td>\n",
       "      <td>31.000000</td>\n",
       "      <td>0.000000</td>\n",
       "      <td>0.000000</td>\n",
       "      <td>0.000000</td>\n",
       "      <td>0.000000</td>\n",
       "      <td>0.000000</td>\n",
       "      <td>0.000000</td>\n",
       "      <td>0.000000</td>\n",
       "      <td>0.000000</td>\n",
       "      <td>0.000000</td>\n",
       "      <td>0.000000</td>\n",
       "      <td>1.000000</td>\n",
       "      <td>0.000000</td>\n",
       "      <td>0.000000</td>\n",
       "      <td>0.000000</td>\n",
       "      <td>0.000000</td>\n",
       "      <td>0.000000</td>\n",
       "    </tr>\n",
       "    <tr>\n",
       "      <th>25%</th>\n",
       "      <td>27.000000</td>\n",
       "      <td>414.000000</td>\n",
       "      <td>2.000000</td>\n",
       "      <td>2.000000</td>\n",
       "      <td>2.000000</td>\n",
       "      <td>2.000000</td>\n",
       "      <td>2.000000</td>\n",
       "      <td>2.000000</td>\n",
       "      <td>2.000000</td>\n",
       "      <td>2.000000</td>\n",
       "      <td>2.000000</td>\n",
       "      <td>2.000000</td>\n",
       "      <td>3.000000</td>\n",
       "      <td>3.000000</td>\n",
       "      <td>3.000000</td>\n",
       "      <td>2.000000</td>\n",
       "      <td>0.000000</td>\n",
       "      <td>0.000000</td>\n",
       "    </tr>\n",
       "    <tr>\n",
       "      <th>50%</th>\n",
       "      <td>40.000000</td>\n",
       "      <td>844.000000</td>\n",
       "      <td>3.000000</td>\n",
       "      <td>3.000000</td>\n",
       "      <td>3.000000</td>\n",
       "      <td>3.000000</td>\n",
       "      <td>3.000000</td>\n",
       "      <td>3.000000</td>\n",
       "      <td>4.000000</td>\n",
       "      <td>4.000000</td>\n",
       "      <td>4.000000</td>\n",
       "      <td>4.000000</td>\n",
       "      <td>4.000000</td>\n",
       "      <td>3.000000</td>\n",
       "      <td>4.000000</td>\n",
       "      <td>3.000000</td>\n",
       "      <td>0.000000</td>\n",
       "      <td>0.000000</td>\n",
       "    </tr>\n",
       "    <tr>\n",
       "      <th>75%</th>\n",
       "      <td>51.000000</td>\n",
       "      <td>1744.000000</td>\n",
       "      <td>4.000000</td>\n",
       "      <td>4.000000</td>\n",
       "      <td>4.000000</td>\n",
       "      <td>4.000000</td>\n",
       "      <td>4.000000</td>\n",
       "      <td>4.000000</td>\n",
       "      <td>5.000000</td>\n",
       "      <td>4.000000</td>\n",
       "      <td>4.000000</td>\n",
       "      <td>4.000000</td>\n",
       "      <td>5.000000</td>\n",
       "      <td>4.000000</td>\n",
       "      <td>5.000000</td>\n",
       "      <td>4.000000</td>\n",
       "      <td>12.000000</td>\n",
       "      <td>13.000000</td>\n",
       "    </tr>\n",
       "    <tr>\n",
       "      <th>max</th>\n",
       "      <td>85.000000</td>\n",
       "      <td>4983.000000</td>\n",
       "      <td>5.000000</td>\n",
       "      <td>5.000000</td>\n",
       "      <td>5.000000</td>\n",
       "      <td>5.000000</td>\n",
       "      <td>5.000000</td>\n",
       "      <td>5.000000</td>\n",
       "      <td>5.000000</td>\n",
       "      <td>5.000000</td>\n",
       "      <td>5.000000</td>\n",
       "      <td>5.000000</td>\n",
       "      <td>5.000000</td>\n",
       "      <td>5.000000</td>\n",
       "      <td>5.000000</td>\n",
       "      <td>5.000000</td>\n",
       "      <td>1592.000000</td>\n",
       "      <td>1584.000000</td>\n",
       "    </tr>\n",
       "  </tbody>\n",
       "</table>\n",
       "</div>"
      ]
     },
     "execution_count": 25,
     "metadata": {},
     "output_type": "execute_result"
    }
   ],
   "execution_count": 25
  },
  {
   "cell_type": "markdown",
   "metadata": {},
   "source": [
    "Xử lý outlier bằng IQR"
   ]
  },
  {
   "cell_type": "code",
   "metadata": {
    "ExecuteTime": {
     "end_time": "2024-11-27T10:48:09.066730Z",
     "start_time": "2024-11-27T10:48:08.353171Z"
    }
   },
   "source": [
    "df_no_outliers = df.copy()\n",
    "\n",
    "# Xử lý outliers cho từng cột\n",
    "for col in numeric:\n",
    "    # Tính Q1, Q3 và IQR\n",
    "    Q1 = df[col].quantile(0.25)\n",
    "    Q3 = df[col].quantile(0.75)\n",
    "    IQR = Q3 - Q1\n",
    "    \n",
    "    # Tính lower và upper bounds\n",
    "    lower_bound = Q1 - 1.5 * IQR\n",
    "    upper_bound = Q3 + 1.5 * IQR\n",
    "    \n",
    "    # Lọc outliers\n",
    "    df_no_outliers = df_no_outliers[(df_no_outliers[col] >= lower_bound) & \n",
    "                                   (df_no_outliers[col] <= upper_bound)]\n",
    "    \n",
    "    # In thông tin số lượng outliers đã loại bỏ\n",
    "    n_outliers = len(df) - len(df_no_outliers)\n",
    "    print(f'Column {col}: removed {n_outliers} outliers')\n",
    "\n",
    "# In kích thước DataFrame sau khi xử lý\n",
    "print(f'\\nOriginal shape: {df.shape}')\n",
    "print(f'Shape after removing outliers: {df_no_outliers.shape}')"
   ],
   "outputs": [
    {
     "name": "stdout",
     "output_type": "stream",
     "text": [
      "Column Age: removed 0 outliers\n",
      "Column Flight Distance: removed 2855 outliers\n",
      "Column Inflight wifi service: removed 2855 outliers\n",
      "Column Departure/Arrival time convenient: removed 2855 outliers\n",
      "Column Ease of Online booking: removed 2855 outliers\n",
      "Column Gate location: removed 2855 outliers\n",
      "Column Food and drink: removed 2855 outliers\n",
      "Column Online boarding: removed 2855 outliers\n",
      "Column Seat comfort: removed 2855 outliers\n",
      "Column Inflight entertainment: removed 2855 outliers\n",
      "Column On-board service: removed 2855 outliers\n",
      "Column Leg room service: removed 2855 outliers\n",
      "Column Baggage handling: removed 2855 outliers\n",
      "Column Checkin service: removed 18693 outliers\n",
      "Column Inflight service: removed 18693 outliers\n",
      "Column Cleanliness: removed 18693 outliers\n",
      "Column Departure Delay in Minutes: removed 33923 outliers\n",
      "Column Arrival Delay in Minutes: removed 36232 outliers\n",
      "\n",
      "Original shape: (129880, 23)\n",
      "Shape after removing outliers: (93648, 23)\n"
     ]
    }
   ],
   "execution_count": 26
  },
  {
   "cell_type": "markdown",
   "metadata": {},
   "source": [
    "# Encoding object data"
   ]
  },
  {
   "cell_type": "code",
   "metadata": {
    "execution": {
     "iopub.execute_input": "2024-09-25T15:55:03.0628Z",
     "iopub.status.busy": "2024-09-25T15:55:03.062511Z",
     "iopub.status.idle": "2024-09-25T15:55:03.222443Z",
     "shell.execute_reply": "2024-09-25T15:55:03.221707Z",
     "shell.execute_reply.started": "2024-09-25T15:55:03.062769Z"
    },
    "trusted": true,
    "ExecuteTime": {
     "end_time": "2024-11-27T10:48:09.630727Z",
     "start_time": "2024-11-27T10:48:09.207113Z"
    }
   },
   "source": [
    "from sklearn.preprocessing import LabelEncoder\n",
    "label_encoder=LabelEncoder()\n",
    "col=object_data.columns\n",
    "\n",
    "for i in col:\n",
    "  df_no_outliers[i]=label_encoder.fit_transform(df_no_outliers[i])"
   ],
   "outputs": [],
   "execution_count": 27
  },
  {
   "cell_type": "code",
   "metadata": {
    "ExecuteTime": {
     "end_time": "2024-11-27T10:48:09.680837Z",
     "start_time": "2024-11-27T10:48:09.656348Z"
    }
   },
   "source": [
    "pd.set_option('display.max_columns', None)\n",
    "pd.set_option('display.expand_frame_repr', False)\n",
    "df_no_outliers.head(5)"
   ],
   "outputs": [
    {
     "data": {
      "text/plain": [
       "   Gender  Customer Type  Age  Type of Travel  Class  Flight Distance  Inflight wifi service  Departure/Arrival time convenient  Ease of Online booking  Gate location  Food and drink  Online boarding  Seat comfort  Inflight entertainment  On-board service  Leg room service  Baggage handling  Checkin service  Inflight service  Cleanliness  Departure Delay in Minutes  Arrival Delay in Minutes  satisfaction\n",
       "0       1              0   13               1      2              460                      3                                  4                       3              1               5                3             5                       5                 4                 3                 4                4                 5            5                          25                      18.0             0\n",
       "2       0              0   26               0      0             1142                      2                                  2                       2              2               5                5             5                       5                 4                 3                 4                4                 4            5                           0                       0.0             1\n",
       "4       1              0   61               0      0              214                      3                                  3                       3              3               4                5             5                       3                 3                 4                 4                3                 3            3                           0                       0.0             1\n",
       "5       0              0   26               1      1             1180                      3                                  4                       2              1               1                2             1                       1                 3                 4                 4                4                 4            1                           0                       0.0             0\n",
       "6       1              0   47               1      1             1276                      2                                  4                       2              3               2                2             2                       2                 3                 3                 4                3                 5            2                           9                      23.0             0"
      ],
      "text/html": [
       "<div>\n",
       "<style scoped>\n",
       "    .dataframe tbody tr th:only-of-type {\n",
       "        vertical-align: middle;\n",
       "    }\n",
       "\n",
       "    .dataframe tbody tr th {\n",
       "        vertical-align: top;\n",
       "    }\n",
       "\n",
       "    .dataframe thead th {\n",
       "        text-align: right;\n",
       "    }\n",
       "</style>\n",
       "<table border=\"1\" class=\"dataframe\">\n",
       "  <thead>\n",
       "    <tr style=\"text-align: right;\">\n",
       "      <th></th>\n",
       "      <th>Gender</th>\n",
       "      <th>Customer Type</th>\n",
       "      <th>Age</th>\n",
       "      <th>Type of Travel</th>\n",
       "      <th>Class</th>\n",
       "      <th>Flight Distance</th>\n",
       "      <th>Inflight wifi service</th>\n",
       "      <th>Departure/Arrival time convenient</th>\n",
       "      <th>Ease of Online booking</th>\n",
       "      <th>Gate location</th>\n",
       "      <th>Food and drink</th>\n",
       "      <th>Online boarding</th>\n",
       "      <th>Seat comfort</th>\n",
       "      <th>Inflight entertainment</th>\n",
       "      <th>On-board service</th>\n",
       "      <th>Leg room service</th>\n",
       "      <th>Baggage handling</th>\n",
       "      <th>Checkin service</th>\n",
       "      <th>Inflight service</th>\n",
       "      <th>Cleanliness</th>\n",
       "      <th>Departure Delay in Minutes</th>\n",
       "      <th>Arrival Delay in Minutes</th>\n",
       "      <th>satisfaction</th>\n",
       "    </tr>\n",
       "  </thead>\n",
       "  <tbody>\n",
       "    <tr>\n",
       "      <th>0</th>\n",
       "      <td>1</td>\n",
       "      <td>0</td>\n",
       "      <td>13</td>\n",
       "      <td>1</td>\n",
       "      <td>2</td>\n",
       "      <td>460</td>\n",
       "      <td>3</td>\n",
       "      <td>4</td>\n",
       "      <td>3</td>\n",
       "      <td>1</td>\n",
       "      <td>5</td>\n",
       "      <td>3</td>\n",
       "      <td>5</td>\n",
       "      <td>5</td>\n",
       "      <td>4</td>\n",
       "      <td>3</td>\n",
       "      <td>4</td>\n",
       "      <td>4</td>\n",
       "      <td>5</td>\n",
       "      <td>5</td>\n",
       "      <td>25</td>\n",
       "      <td>18.0</td>\n",
       "      <td>0</td>\n",
       "    </tr>\n",
       "    <tr>\n",
       "      <th>2</th>\n",
       "      <td>0</td>\n",
       "      <td>0</td>\n",
       "      <td>26</td>\n",
       "      <td>0</td>\n",
       "      <td>0</td>\n",
       "      <td>1142</td>\n",
       "      <td>2</td>\n",
       "      <td>2</td>\n",
       "      <td>2</td>\n",
       "      <td>2</td>\n",
       "      <td>5</td>\n",
       "      <td>5</td>\n",
       "      <td>5</td>\n",
       "      <td>5</td>\n",
       "      <td>4</td>\n",
       "      <td>3</td>\n",
       "      <td>4</td>\n",
       "      <td>4</td>\n",
       "      <td>4</td>\n",
       "      <td>5</td>\n",
       "      <td>0</td>\n",
       "      <td>0.0</td>\n",
       "      <td>1</td>\n",
       "    </tr>\n",
       "    <tr>\n",
       "      <th>4</th>\n",
       "      <td>1</td>\n",
       "      <td>0</td>\n",
       "      <td>61</td>\n",
       "      <td>0</td>\n",
       "      <td>0</td>\n",
       "      <td>214</td>\n",
       "      <td>3</td>\n",
       "      <td>3</td>\n",
       "      <td>3</td>\n",
       "      <td>3</td>\n",
       "      <td>4</td>\n",
       "      <td>5</td>\n",
       "      <td>5</td>\n",
       "      <td>3</td>\n",
       "      <td>3</td>\n",
       "      <td>4</td>\n",
       "      <td>4</td>\n",
       "      <td>3</td>\n",
       "      <td>3</td>\n",
       "      <td>3</td>\n",
       "      <td>0</td>\n",
       "      <td>0.0</td>\n",
       "      <td>1</td>\n",
       "    </tr>\n",
       "    <tr>\n",
       "      <th>5</th>\n",
       "      <td>0</td>\n",
       "      <td>0</td>\n",
       "      <td>26</td>\n",
       "      <td>1</td>\n",
       "      <td>1</td>\n",
       "      <td>1180</td>\n",
       "      <td>3</td>\n",
       "      <td>4</td>\n",
       "      <td>2</td>\n",
       "      <td>1</td>\n",
       "      <td>1</td>\n",
       "      <td>2</td>\n",
       "      <td>1</td>\n",
       "      <td>1</td>\n",
       "      <td>3</td>\n",
       "      <td>4</td>\n",
       "      <td>4</td>\n",
       "      <td>4</td>\n",
       "      <td>4</td>\n",
       "      <td>1</td>\n",
       "      <td>0</td>\n",
       "      <td>0.0</td>\n",
       "      <td>0</td>\n",
       "    </tr>\n",
       "    <tr>\n",
       "      <th>6</th>\n",
       "      <td>1</td>\n",
       "      <td>0</td>\n",
       "      <td>47</td>\n",
       "      <td>1</td>\n",
       "      <td>1</td>\n",
       "      <td>1276</td>\n",
       "      <td>2</td>\n",
       "      <td>4</td>\n",
       "      <td>2</td>\n",
       "      <td>3</td>\n",
       "      <td>2</td>\n",
       "      <td>2</td>\n",
       "      <td>2</td>\n",
       "      <td>2</td>\n",
       "      <td>3</td>\n",
       "      <td>3</td>\n",
       "      <td>4</td>\n",
       "      <td>3</td>\n",
       "      <td>5</td>\n",
       "      <td>2</td>\n",
       "      <td>9</td>\n",
       "      <td>23.0</td>\n",
       "      <td>0</td>\n",
       "    </tr>\n",
       "  </tbody>\n",
       "</table>\n",
       "</div>"
      ]
     },
     "execution_count": 28,
     "metadata": {},
     "output_type": "execute_result"
    }
   ],
   "execution_count": 28
  },
  {
   "cell_type": "markdown",
   "metadata": {},
   "source": [
    "# Correlation plot"
   ]
  },
  {
   "cell_type": "code",
   "metadata": {
    "ExecuteTime": {
     "end_time": "2024-11-27T10:48:09.961187Z",
     "start_time": "2024-11-27T10:48:09.952238Z"
    }
   },
   "source": [
    "# plt.figure(figsize=(18,18))\n",
    "# sns.heatmap(df_no_outliers.corr(),annot=True, cbar=True,cmap='Greens')\n",
    "# plt.title('Correlation Heatmap', fontdict={'fontsize': 13})\n",
    "# plt.show()"
   ],
   "outputs": [],
   "execution_count": 29
  },
  {
   "cell_type": "markdown",
   "metadata": {},
   "source": [
    "# Seperating dataset"
   ]
  },
  {
   "cell_type": "code",
   "metadata": {
    "execution": {
     "iopub.execute_input": "2024-09-25T15:55:54.887548Z",
     "iopub.status.busy": "2024-09-25T15:55:54.887159Z",
     "iopub.status.idle": "2024-09-25T15:55:54.932231Z",
     "shell.execute_reply": "2024-09-25T15:55:54.931372Z",
     "shell.execute_reply.started": "2024-09-25T15:55:54.887512Z"
    },
    "trusted": true,
    "ExecuteTime": {
     "end_time": "2024-11-27T10:48:10.406497Z",
     "start_time": "2024-11-27T10:48:10.051569Z"
    }
   },
   "source": [
    "#seprating data to train-test-spilit\n",
    "from sklearn.model_selection import train_test_split\n",
    "\n",
    "x=df_no_outliers.drop(['satisfaction'],axis=1)\n",
    "y=df_no_outliers['satisfaction']\n",
    "\n",
    "x_train, x_test, y_train, y_test = train_test_split(x, y, test_size=0.30, random_state=42)\n",
    "x_train.shape,x_test.shape"
   ],
   "outputs": [
    {
     "data": {
      "text/plain": [
       "((65553, 22), (28095, 22))"
      ]
     },
     "execution_count": 30,
     "metadata": {},
     "output_type": "execute_result"
    }
   ],
   "execution_count": 30
  },
  {
   "cell_type": "markdown",
   "metadata": {},
   "source": [
    "# Normalizing data set"
   ]
  },
  {
   "cell_type": "code",
   "metadata": {
    "execution": {
     "iopub.execute_input": "2024-09-25T15:55:54.933533Z",
     "iopub.status.busy": "2024-09-25T15:55:54.93325Z",
     "iopub.status.idle": "2024-09-25T15:55:54.973221Z",
     "shell.execute_reply": "2024-09-25T15:55:54.972446Z",
     "shell.execute_reply.started": "2024-09-25T15:55:54.933503Z"
    },
    "trusted": true,
    "ExecuteTime": {
     "end_time": "2024-11-27T10:48:10.532541Z",
     "start_time": "2024-11-27T10:48:10.423396Z"
    }
   },
   "source": [
    "from sklearn.preprocessing import StandardScaler\n",
    "\n",
    "standard_scaler=StandardScaler()\n",
    "x_train=standard_scaler.fit_transform(x_train)\n",
    "x_test=standard_scaler.transform(x_test)"
   ],
   "outputs": [],
   "execution_count": 31
  },
  {
   "cell_type": "code",
   "metadata": {
    "ExecuteTime": {
     "end_time": "2024-11-27T10:48:10.585816Z",
     "start_time": "2024-11-27T10:48:10.572856Z"
    }
   },
   "source": [
    "x_train"
   ],
   "outputs": [
    {
     "data": {
      "text/plain": [
       "array([[ 1.01356197, -0.47447805,  1.02912799, ...,  1.27219621,\n",
       "        -0.51522664, -0.51915045],\n",
       "       [ 1.01356197,  2.10757904, -1.22325431, ..., -0.26230452,\n",
       "        -0.51522664, -0.51915045],\n",
       "       [ 1.01356197, -0.47447805,  0.76414184, ..., -1.79680524,\n",
       "        -0.51522664, -0.51915045],\n",
       "       ...,\n",
       "       [ 1.01356197, -0.47447805, -0.42829585, ...,  0.50494585,\n",
       "         1.26876359, -0.51915045],\n",
       "       [-0.98661949, -0.47447805,  0.76414184, ..., -0.26230452,\n",
       "         2.90408797,  1.99978607],\n",
       "       [ 1.01356197,  2.10757904, -1.28950085, ...,  1.27219621,\n",
       "        -0.06922908, -0.37097772]])"
      ]
     },
     "execution_count": 32,
     "metadata": {},
     "output_type": "execute_result"
    }
   ],
   "execution_count": 32
  },
  {
   "cell_type": "code",
   "metadata": {
    "ExecuteTime": {
     "end_time": "2024-11-27T10:48:10.723980Z",
     "start_time": "2024-11-27T10:48:10.687589Z"
    }
   },
   "source": [
    "data = pd.DataFrame(standard_scaler.transform(x_test), columns=x.columns)\n",
    "data.head()"
   ],
   "outputs": [
    {
     "name": "stderr",
     "output_type": "stream",
     "text": [
      "D:\\tai_lieu\\Nam4-ki1\\Data_Mining\\DecisionTree-Classification-of-airline-passenger-satisfaction\\.venv\\Lib\\site-packages\\sklearn\\base.py:493: UserWarning: X does not have valid feature names, but StandardScaler was fitted with feature names\n",
      "  warnings.warn(\n"
     ]
    },
    {
     "data": {
      "text/plain": [
       "     Gender  Customer Type       Age  Type of Travel     Class  Flight Distance  Inflight wifi service  Departure/Arrival time convenient  Ease of Online booking  Gate location  Food and drink  Online boarding  Seat comfort  Inflight entertainment  On-board service  Leg room service  Baggage handling  Checkin service  Inflight service  Cleanliness  Departure Delay in Minutes  Arrival Delay in Minutes\n",
       "0 -2.960038      -1.699607 -2.537478       -2.157555 -2.446735        -1.235235              -1.350048                          -1.627844               -1.332671      -1.677401       -3.166184        -1.525927     -4.109281               -2.214591         -2.427487         -2.248354         -2.943432        -5.406960         -3.018304    -1.587963                   -0.591823                 -0.596074\n",
       "1 -2.960038       4.967411 -2.625250       -2.157555 -2.446735        -1.238557              -2.997205                          -2.893223               -2.848126      -3.498325       -3.739249        -3.695606     -4.109281               -3.902582         -2.427487         -2.248354         -2.217863        -4.371562         -3.018304    -3.942655                   -0.591823                 -0.596074\n",
       "2  1.040688      -1.699607 -2.555033       -2.157555 -2.446735        -1.235182              -2.997205                          -2.893223               -2.848126      -3.498325       -2.593118        -1.525927     -2.375802               -3.902582         -4.312355         -3.423010         -5.120139        -4.371562         -5.241390    -2.176636                   -0.348706                 -0.530209\n",
       "3  1.040688      -1.699607 -2.620862       -2.157555  2.793462        -1.238727              -1.350048                          -2.893223               -2.848126      -3.498325       -2.020052        -2.068347     -2.375802               -2.214591         -3.055776         -2.835682         -2.217863        -4.371562         -5.241390    -2.176636                   -0.591823                  0.084536\n",
       "4  1.040688       4.967411 -2.515535       -2.157555 -2.446735        -1.237624              -1.350048                          -1.206051               -0.827520      -1.070427       -2.020052        -2.068347     -3.531455               -2.214591         -2.427487         -2.835682         -2.943432        -4.371562         -3.018304    -2.176636                   -0.459214                 -0.310657"
      ],
      "text/html": [
       "<div>\n",
       "<style scoped>\n",
       "    .dataframe tbody tr th:only-of-type {\n",
       "        vertical-align: middle;\n",
       "    }\n",
       "\n",
       "    .dataframe tbody tr th {\n",
       "        vertical-align: top;\n",
       "    }\n",
       "\n",
       "    .dataframe thead th {\n",
       "        text-align: right;\n",
       "    }\n",
       "</style>\n",
       "<table border=\"1\" class=\"dataframe\">\n",
       "  <thead>\n",
       "    <tr style=\"text-align: right;\">\n",
       "      <th></th>\n",
       "      <th>Gender</th>\n",
       "      <th>Customer Type</th>\n",
       "      <th>Age</th>\n",
       "      <th>Type of Travel</th>\n",
       "      <th>Class</th>\n",
       "      <th>Flight Distance</th>\n",
       "      <th>Inflight wifi service</th>\n",
       "      <th>Departure/Arrival time convenient</th>\n",
       "      <th>Ease of Online booking</th>\n",
       "      <th>Gate location</th>\n",
       "      <th>Food and drink</th>\n",
       "      <th>Online boarding</th>\n",
       "      <th>Seat comfort</th>\n",
       "      <th>Inflight entertainment</th>\n",
       "      <th>On-board service</th>\n",
       "      <th>Leg room service</th>\n",
       "      <th>Baggage handling</th>\n",
       "      <th>Checkin service</th>\n",
       "      <th>Inflight service</th>\n",
       "      <th>Cleanliness</th>\n",
       "      <th>Departure Delay in Minutes</th>\n",
       "      <th>Arrival Delay in Minutes</th>\n",
       "    </tr>\n",
       "  </thead>\n",
       "  <tbody>\n",
       "    <tr>\n",
       "      <th>0</th>\n",
       "      <td>-2.960038</td>\n",
       "      <td>-1.699607</td>\n",
       "      <td>-2.537478</td>\n",
       "      <td>-2.157555</td>\n",
       "      <td>-2.446735</td>\n",
       "      <td>-1.235235</td>\n",
       "      <td>-1.350048</td>\n",
       "      <td>-1.627844</td>\n",
       "      <td>-1.332671</td>\n",
       "      <td>-1.677401</td>\n",
       "      <td>-3.166184</td>\n",
       "      <td>-1.525927</td>\n",
       "      <td>-4.109281</td>\n",
       "      <td>-2.214591</td>\n",
       "      <td>-2.427487</td>\n",
       "      <td>-2.248354</td>\n",
       "      <td>-2.943432</td>\n",
       "      <td>-5.406960</td>\n",
       "      <td>-3.018304</td>\n",
       "      <td>-1.587963</td>\n",
       "      <td>-0.591823</td>\n",
       "      <td>-0.596074</td>\n",
       "    </tr>\n",
       "    <tr>\n",
       "      <th>1</th>\n",
       "      <td>-2.960038</td>\n",
       "      <td>4.967411</td>\n",
       "      <td>-2.625250</td>\n",
       "      <td>-2.157555</td>\n",
       "      <td>-2.446735</td>\n",
       "      <td>-1.238557</td>\n",
       "      <td>-2.997205</td>\n",
       "      <td>-2.893223</td>\n",
       "      <td>-2.848126</td>\n",
       "      <td>-3.498325</td>\n",
       "      <td>-3.739249</td>\n",
       "      <td>-3.695606</td>\n",
       "      <td>-4.109281</td>\n",
       "      <td>-3.902582</td>\n",
       "      <td>-2.427487</td>\n",
       "      <td>-2.248354</td>\n",
       "      <td>-2.217863</td>\n",
       "      <td>-4.371562</td>\n",
       "      <td>-3.018304</td>\n",
       "      <td>-3.942655</td>\n",
       "      <td>-0.591823</td>\n",
       "      <td>-0.596074</td>\n",
       "    </tr>\n",
       "    <tr>\n",
       "      <th>2</th>\n",
       "      <td>1.040688</td>\n",
       "      <td>-1.699607</td>\n",
       "      <td>-2.555033</td>\n",
       "      <td>-2.157555</td>\n",
       "      <td>-2.446735</td>\n",
       "      <td>-1.235182</td>\n",
       "      <td>-2.997205</td>\n",
       "      <td>-2.893223</td>\n",
       "      <td>-2.848126</td>\n",
       "      <td>-3.498325</td>\n",
       "      <td>-2.593118</td>\n",
       "      <td>-1.525927</td>\n",
       "      <td>-2.375802</td>\n",
       "      <td>-3.902582</td>\n",
       "      <td>-4.312355</td>\n",
       "      <td>-3.423010</td>\n",
       "      <td>-5.120139</td>\n",
       "      <td>-4.371562</td>\n",
       "      <td>-5.241390</td>\n",
       "      <td>-2.176636</td>\n",
       "      <td>-0.348706</td>\n",
       "      <td>-0.530209</td>\n",
       "    </tr>\n",
       "    <tr>\n",
       "      <th>3</th>\n",
       "      <td>1.040688</td>\n",
       "      <td>-1.699607</td>\n",
       "      <td>-2.620862</td>\n",
       "      <td>-2.157555</td>\n",
       "      <td>2.793462</td>\n",
       "      <td>-1.238727</td>\n",
       "      <td>-1.350048</td>\n",
       "      <td>-2.893223</td>\n",
       "      <td>-2.848126</td>\n",
       "      <td>-3.498325</td>\n",
       "      <td>-2.020052</td>\n",
       "      <td>-2.068347</td>\n",
       "      <td>-2.375802</td>\n",
       "      <td>-2.214591</td>\n",
       "      <td>-3.055776</td>\n",
       "      <td>-2.835682</td>\n",
       "      <td>-2.217863</td>\n",
       "      <td>-4.371562</td>\n",
       "      <td>-5.241390</td>\n",
       "      <td>-2.176636</td>\n",
       "      <td>-0.591823</td>\n",
       "      <td>0.084536</td>\n",
       "    </tr>\n",
       "    <tr>\n",
       "      <th>4</th>\n",
       "      <td>1.040688</td>\n",
       "      <td>4.967411</td>\n",
       "      <td>-2.515535</td>\n",
       "      <td>-2.157555</td>\n",
       "      <td>-2.446735</td>\n",
       "      <td>-1.237624</td>\n",
       "      <td>-1.350048</td>\n",
       "      <td>-1.206051</td>\n",
       "      <td>-0.827520</td>\n",
       "      <td>-1.070427</td>\n",
       "      <td>-2.020052</td>\n",
       "      <td>-2.068347</td>\n",
       "      <td>-3.531455</td>\n",
       "      <td>-2.214591</td>\n",
       "      <td>-2.427487</td>\n",
       "      <td>-2.835682</td>\n",
       "      <td>-2.943432</td>\n",
       "      <td>-4.371562</td>\n",
       "      <td>-3.018304</td>\n",
       "      <td>-2.176636</td>\n",
       "      <td>-0.459214</td>\n",
       "      <td>-0.310657</td>\n",
       "    </tr>\n",
       "  </tbody>\n",
       "</table>\n",
       "</div>"
      ]
     },
     "execution_count": 33,
     "metadata": {},
     "output_type": "execute_result"
    }
   ],
   "execution_count": 33
  },
  {
   "cell_type": "markdown",
   "metadata": {},
   "source": [
    "# 3- Creating Models"
   ]
  },
  {
   "cell_type": "markdown",
   "metadata": {},
   "source": [
    "# A.Creating data frame for results"
   ]
  },
  {
   "cell_type": "code",
   "metadata": {
    "execution": {
     "iopub.execute_input": "2024-09-25T15:55:54.97766Z",
     "iopub.status.busy": "2024-09-25T15:55:54.977345Z",
     "iopub.status.idle": "2024-09-25T15:55:54.983644Z",
     "shell.execute_reply": "2024-09-25T15:55:54.982517Z",
     "shell.execute_reply.started": "2024-09-25T15:55:54.977628Z"
    },
    "trusted": true,
    "ExecuteTime": {
     "end_time": "2024-11-27T10:48:10.919533Z",
     "start_time": "2024-11-27T10:48:10.912607Z"
    }
   },
   "source": [
    "acc=np.zeros((3,4))\n",
    "column=['Precision','recall','acc_train','acc_test']\n",
    "rows = ['Naive bayes', 'Decision tree', 'Pruned Decision tree']\n",
    "\n",
    "results_df=pd.DataFrame(acc,columns=column,index=rows)"
   ],
   "outputs": [],
   "execution_count": 34
  },
  {
   "cell_type": "markdown",
   "metadata": {},
   "source": [
    "# B.Creating metric function"
   ]
  },
  {
   "cell_type": "code",
   "metadata": {
    "execution": {
     "iopub.execute_input": "2024-09-25T15:55:54.985048Z",
     "iopub.status.busy": "2024-09-25T15:55:54.984759Z",
     "iopub.status.idle": "2024-09-25T15:55:54.99538Z",
     "shell.execute_reply": "2024-09-25T15:55:54.994473Z",
     "shell.execute_reply.started": "2024-09-25T15:55:54.985017Z"
    },
    "trusted": true,
    "ExecuteTime": {
     "end_time": "2024-11-27T10:48:11.098151Z",
     "start_time": "2024-11-27T10:48:11.089394Z"
    }
   },
   "source": [
    "from sklearn.metrics import precision_score, recall_score,confusion_matrix, ConfusionMatrixDisplay\n",
    "from sklearn.metrics import accuracy_score\n",
    "\n",
    "def metrics(y_train,y_test,y_pred_train,y_pred_test):\n",
    "  p=precision_score(y_test,y_pred_test,average='weighted')\n",
    "  r=recall_score(y_test,y_pred_test,average='weighted')\n",
    "  acc_train=accuracy_score(y_train,y_pred_train)\n",
    "  acc_test=accuracy_score(y_test,y_pred_test)\n",
    "\n",
    "\n",
    "  return p,r,acc_train,acc_test"
   ],
   "outputs": [],
   "execution_count": 35
  },
  {
   "cell_type": "markdown",
   "metadata": {},
   "source": [
    "# Decision tree model"
   ]
  },
  {
   "cell_type": "markdown",
   "metadata": {},
   "source": [
    "pruned tree"
   ]
  },
  {
   "cell_type": "code",
   "metadata": {
    "ExecuteTime": {
     "end_time": "2024-11-27T10:49:43.714082Z",
     "start_time": "2024-11-27T10:48:11.282561Z"
    }
   },
   "source": [
    "from sklearn.model_selection import GridSearchCV\n",
    "from sklearn.tree import DecisionTreeClassifier\n",
    "\n",
    "# Initialize the Decision Tree classifier\n",
    "pdtc = DecisionTreeClassifier()\n",
    "\n",
    "# Define the parameter grid for pruning\n",
    "param_grid = {\n",
    "    'max_depth': [3, 5, 7, 15, 30, None], #Xác định độ sâu tối đa của cây.\n",
    "    'min_samples_split': [2, 5, 10], # Xác định số lượng mẫu tối thiểu cần thiết để một node có thể được chia tách\n",
    "    'min_samples_leaf': [1, 2, 4] #Xác định số lượng mẫu tối thiểu cần thiết để một node lá có thể tồn tại.\n",
    "}\n",
    "\n",
    "# Apply GridSearchCV for cross-validation and parameter tuning\n",
    "grid_search = GridSearchCV(estimator=pdtc, param_grid=param_grid, cv=5, scoring='accuracy')\n",
    "grid_search.fit(x_train, y_train)\n",
    "\n",
    "# Get the best estimator\n",
    "best_dtc = grid_search.best_estimator_\n",
    "\n",
    "# Predict using the best estimator\n",
    "y_pred_test_pdtc = best_dtc.predict(x_test)\n",
    "y_pred_train_pdtc = best_dtc.predict(x_train)\n",
    "# Tính toán các chỉ số đánh giá\n",
    "p, r, acc_train, acc_test = metrics(y_train, y_test, y_pred_train_pdtc, y_pred_test_pdtc)\n",
    "\n",
    "# Cập nhật kết quả vào DataFrame\n",
    "results_df.loc[results_df.index == 'Pruned Decision tree', 'acc_test'] = acc_test\n",
    "results_df.loc[results_df.index == 'Pruned Decision tree', 'Precision'] = p\n",
    "results_df.loc[results_df.index == 'Pruned Decision tree', 'recall'] = r\n",
    "results_df.loc[results_df.index == 'Pruned Decision tree', 'acc_train'] = acc_train\n",
    "# Hiển thị ma trận nhầm lẫn\n",
    "cm = confusion_matrix(y_test, y_pred_test_pdtc)\n",
    "disp = ConfusionMatrixDisplay(confusion_matrix=cm)\n",
    "disp.plot(cmap=plt.cm.Blues, values_format='d')\n",
    "plt.show()\n",
    "\n",
    "# Print the best parameters and cross-validation score\n",
    "print(\"Best parameters found: \", grid_search.best_params_)\n",
    "print(\"Best cross-validation score: \", grid_search.best_score_)\n",
    "\n",
    "\n"
   ],
   "outputs": [
    {
     "data": {
      "text/plain": [
       "<Figure size 640x480 with 2 Axes>"
      ],
      "image/png": "[encoded data removed]"
     },
     "metadata": {},
     "output_type": "display_data"
    },
    {
     "name": "stdout",
     "output_type": "stream",
     "text": [
      "Best parameters found:  {'max_depth': 15, 'min_samples_leaf': 4, 'min_samples_split': 10}\n",
      "Best cross-validation score:  0.952313404975332\n"
     ]
    }
   ],
   "execution_count": 36
  },
  {
   "cell_type": "code",
   "metadata": {
    "ExecuteTime": {
     "end_time": "2024-11-27T10:49:43.725835Z",
     "start_time": "2024-11-27T10:49:43.718102Z"
    }
   },
   "source": [
    "# import matplotlib.pyplot as plt\n",
    "# from sklearn.tree import plot_tree\n",
    "# # Giả sử grid_search.best_estimator_ đã được xác định\n",
    "# plt.figure(figsize=(15, 10))\n",
    "# plot_tree(grid_search.best_estimator_, filled=True)\n",
    "# plt.title(\"Original Decision Tree\")\n",
    "# # Xuất ra file PDF\n",
    "# plt.savefig(\"decision_tree.pdf\", format='pdf')\n",
    "# plt.close()"
   ],
   "outputs": [],
   "execution_count": 37
  },
  {
   "cell_type": "code",
   "metadata": {
    "ExecuteTime": {
     "end_time": "2024-11-27T10:49:43.816768Z",
     "start_time": "2024-11-27T10:49:43.769060Z"
    }
   },
   "source": [
    "from sklearn.metrics import classification_report\n",
    "print(classification_report(y_train, y_pred_train_pdtc))"
   ],
   "outputs": [
    {
     "name": "stdout",
     "output_type": "stream",
     "text": [
      "              precision    recall  f1-score   support\n",
      "\n",
      "           0       0.96      0.98      0.97     34887\n",
      "           1       0.98      0.96      0.97     30666\n",
      "\n",
      "    accuracy                           0.97     65553\n",
      "   macro avg       0.97      0.97      0.97     65553\n",
      "weighted avg       0.97      0.97      0.97     65553\n",
      "\n"
     ]
    }
   ],
   "execution_count": 38
  },
  {
   "cell_type": "code",
   "metadata": {
    "ExecuteTime": {
     "end_time": "2024-11-27T10:49:43.891426Z",
     "start_time": "2024-11-27T10:49:43.863716Z"
    }
   },
   "source": [
    "from sklearn.metrics import classification_report\n",
    "print(classification_report(y_test, y_pred_test_pdtc))"
   ],
   "outputs": [
    {
     "name": "stdout",
     "output_type": "stream",
     "text": [
      "              precision    recall  f1-score   support\n",
      "\n",
      "           0       0.95      0.96      0.95     14956\n",
      "           1       0.96      0.94      0.95     13139\n",
      "\n",
      "    accuracy                           0.95     28095\n",
      "   macro avg       0.95      0.95      0.95     28095\n",
      "weighted avg       0.95      0.95      0.95     28095\n",
      "\n"
     ]
    }
   ],
   "execution_count": 39
  },
  {
   "cell_type": "markdown",
   "metadata": {},
   "source": [
    "C4.5 tree"
   ]
  },
  {
   "cell_type": "code",
   "metadata": {
    "execution": {
     "iopub.execute_input": "2024-09-25T15:56:26.359665Z",
     "iopub.status.busy": "2024-09-25T15:56:26.359262Z",
     "iopub.status.idle": "2024-09-25T15:56:27.249938Z",
     "shell.execute_reply": "2024-09-25T15:56:27.248844Z",
     "shell.execute_reply.started": "2024-09-25T15:56:26.359618Z"
    },
    "trusted": true,
    "ExecuteTime": {
     "end_time": "2024-11-27T10:49:43.972702Z",
     "start_time": "2024-11-27T10:49:43.939416Z"
    }
   },
   "source": [
    "from C45 import C45Classifier\n",
    "\n",
    "# # Khởi tạo mô hình C4.5\n",
    "# dtc = C45Classifier()\n",
    "\n",
    "# # Huấn luyện mô hình\n",
    "# dtc.fit(x_train, y_train)\n",
    "\n",
    "# # Dự đoán trên tập kiểm tra\n",
    "# y_pred_test_dtc = dtc.predict(x_test)\n",
    "# y_pred_train_dtc = dtc.predict(x_train)\n",
    "\n",
    "# # Tính toán các chỉ số đánh giá\n",
    "# p, r, acc_train, acc_test = metrics(y_train, y_test, y_pred_train_dtc, y_pred_test_dtc)\n",
    "\n",
    "# # Cập nhật kết quả vào DataFrame\n",
    "# results_df.loc[results_df.index == 'Decision tree', 'acc_test'] = acc_test\n",
    "# results_df.loc[results_df.index == 'Decision tree', 'Precision'] = p\n",
    "# results_df.loc[results_df.index == 'Decision tree', 'recall'] = r\n",
    "# results_df.loc[results_df.index == 'Decision tree', 'acc_train'] = acc_train\n",
    "\n",
    "# # Hiển thị ma trận nhầm lẫn\n",
    "# cm = confusion_matrix(y_test, y_pred_test_dtc)\n",
    "# disp = ConfusionMatrixDisplay(confusion_matrix=cm)\n",
    "# disp.plot(cmap=plt.cm.Blues, values_format='d')\n",
    "# plt.show()\n"
   ],
   "outputs": [],
   "execution_count": 40
  },
  {
   "cell_type": "code",
   "metadata": {
    "ExecuteTime": {
     "end_time": "2024-11-27T10:49:44.024363Z",
     "start_time": "2024-11-27T10:49:44.016692Z"
    }
   },
   "source": [
    "# from sklearn.metrics import classification_report\n",
    "# print(classification_report(y_test, y_pred_test_dtc))"
   ],
   "outputs": [],
   "execution_count": 41
  },
  {
   "cell_type": "code",
   "metadata": {
    "ExecuteTime": {
     "end_time": "2024-11-27T10:49:44.073357Z",
     "start_time": "2024-11-27T10:49:44.068244Z"
    }
   },
   "source": [
    "# from sklearn.metrics import classification_report\n",
    "# print(classification_report(y_train, y_pred_train_dtc))"
   ],
   "outputs": [],
   "execution_count": 42
  },
  {
   "cell_type": "code",
   "metadata": {
    "ExecuteTime": {
     "end_time": "2024-11-27T10:49:44.123842Z",
     "start_time": "2024-11-27T10:49:44.118277Z"
    }
   },
   "source": [
    "# dtc.summary()"
   ],
   "outputs": [],
   "execution_count": 43
  },
  {
   "cell_type": "markdown",
   "metadata": {},
   "source": [
    "# Naive Bayes Model"
   ]
  },
  {
   "cell_type": "code",
   "metadata": {
    "execution": {
     "iopub.execute_input": "2024-09-25T15:55:54.997289Z",
     "iopub.status.busy": "2024-09-25T15:55:54.99654Z",
     "iopub.status.idle": "2024-09-25T15:55:55.273996Z",
     "shell.execute_reply": "2024-09-25T15:55:55.27307Z",
     "shell.execute_reply.started": "2024-09-25T15:55:54.997236Z"
    },
    "trusted": true,
    "ExecuteTime": {
     "end_time": "2024-11-27T10:49:44.474702Z",
     "start_time": "2024-11-27T10:49:44.167882Z"
    }
   },
   "source": [
    "#Naive Bias Model\n",
    "from sklearn.naive_bayes import GaussianNB\n",
    "gnb=GaussianNB()\n",
    "gnb.fit(x_train,y_train)\n",
    "\n",
    "y_pred_test_gnb=gnb.predict(x_test)\n",
    "y_pred_train_gnb=gnb.predict(x_train)\n",
    "\n",
    "#Calculate metrics\n",
    "p,r,acc_train,acc_test=metrics(y_train,y_test,y_pred_train_gnb,y_pred_test_gnb)\n",
    "\n",
    "results_df.loc[results_df.index == 'Naive bayes', 'acc_test'] = acc_test\n",
    "results_df.loc[results_df.index == 'Naive bayes', 'Precision'] = p\n",
    "results_df.loc[results_df.index == 'Naive bayes', 'recall'] = r\n",
    "results_df.loc[results_df.index == 'Naive bayes', 'acc_train'] = acc_train\n",
    "\n",
    "\n",
    "# Display the confusion matrix\n",
    "cm = confusion_matrix(y_test, y_pred_test_gnb)\n",
    "disp = ConfusionMatrixDisplay(confusion_matrix=cm)\n",
    "disp.plot(cmap=plt.cm.Blues, values_format='d')\n",
    "plt.show()"
   ],
   "outputs": [
    {
     "data": {
      "text/plain": [
       "<Figure size 640x480 with 2 Axes>"
      ],
      "image/png": "[encoded data removed]"
     },
     "metadata": {},
     "output_type": "display_data"
    }
   ],
   "execution_count": 44
  },
  {
   "cell_type": "code",
   "metadata": {
    "ExecuteTime": {
     "end_time": "2024-11-27T10:49:44.570027Z",
     "start_time": "2024-11-27T10:49:44.524652Z"
    }
   },
   "source": [
    "from sklearn.metrics import classification_report\n",
    "print(classification_report(y_train, y_pred_train_gnb))"
   ],
   "outputs": [
    {
     "name": "stdout",
     "output_type": "stream",
     "text": [
      "              precision    recall  f1-score   support\n",
      "\n",
      "           0       0.85      0.90      0.88     34887\n",
      "           1       0.88      0.82      0.85     30666\n",
      "\n",
      "    accuracy                           0.87     65553\n",
      "   macro avg       0.87      0.86      0.86     65553\n",
      "weighted avg       0.87      0.87      0.86     65553\n",
      "\n"
     ]
    }
   ],
   "execution_count": 45
  },
  {
   "cell_type": "code",
   "metadata": {
    "ExecuteTime": {
     "end_time": "2024-11-27T10:49:44.643648Z",
     "start_time": "2024-11-27T10:49:44.614309Z"
    }
   },
   "source": [
    "from sklearn.metrics import classification_report\n",
    "print(classification_report(y_test, y_pred_test_gnb))"
   ],
   "outputs": [
    {
     "name": "stdout",
     "output_type": "stream",
     "text": [
      "              precision    recall  f1-score   support\n",
      "\n",
      "           0       0.85      0.90      0.87     14956\n",
      "           1       0.87      0.82      0.85     13139\n",
      "\n",
      "    accuracy                           0.86     28095\n",
      "   macro avg       0.86      0.86      0.86     28095\n",
      "weighted avg       0.86      0.86      0.86     28095\n",
      "\n"
     ]
    }
   ],
   "execution_count": 46
  },
  {
   "cell_type": "code",
   "metadata": {
    "ExecuteTime": {
     "end_time": "2024-11-27T10:49:44.703961Z",
     "start_time": "2024-11-27T10:49:44.689558Z"
    }
   },
   "source": [
    "results_df"
   ],
   "outputs": [
    {
     "data": {
      "text/plain": [
       "                      Precision    recall  acc_train  acc_test\n",
       "Naive bayes            0.862685  0.862075   0.865285  0.862075\n",
       "Decision tree          0.000000  0.000000   0.000000  0.000000\n",
       "Pruned Decision tree   0.950363  0.950276   0.969612  0.950276"
      ],
      "text/html": [
       "<div>\n",
       "<style scoped>\n",
       "    .dataframe tbody tr th:only-of-type {\n",
       "        vertical-align: middle;\n",
       "    }\n",
       "\n",
       "    .dataframe tbody tr th {\n",
       "        vertical-align: top;\n",
       "    }\n",
       "\n",
       "    .dataframe thead th {\n",
       "        text-align: right;\n",
       "    }\n",
       "</style>\n",
       "<table border=\"1\" class=\"dataframe\">\n",
       "  <thead>\n",
       "    <tr style=\"text-align: right;\">\n",
       "      <th></th>\n",
       "      <th>Precision</th>\n",
       "      <th>recall</th>\n",
       "      <th>acc_train</th>\n",
       "      <th>acc_test</th>\n",
       "    </tr>\n",
       "  </thead>\n",
       "  <tbody>\n",
       "    <tr>\n",
       "      <th>Naive bayes</th>\n",
       "      <td>0.862685</td>\n",
       "      <td>0.862075</td>\n",
       "      <td>0.865285</td>\n",
       "      <td>0.862075</td>\n",
       "    </tr>\n",
       "    <tr>\n",
       "      <th>Decision tree</th>\n",
       "      <td>0.000000</td>\n",
       "      <td>0.000000</td>\n",
       "      <td>0.000000</td>\n",
       "      <td>0.000000</td>\n",
       "    </tr>\n",
       "    <tr>\n",
       "      <th>Pruned Decision tree</th>\n",
       "      <td>0.950363</td>\n",
       "      <td>0.950276</td>\n",
       "      <td>0.969612</td>\n",
       "      <td>0.950276</td>\n",
       "    </tr>\n",
       "  </tbody>\n",
       "</table>\n",
       "</div>"
      ]
     },
     "execution_count": 47,
     "metadata": {},
     "output_type": "execute_result"
    }
   ],
   "execution_count": 47
  }
 ],
 "metadata": {
  "kaggle": {
   "accelerator": "nvidiaTeslaT4",
   "dataSources": [
    {
     "datasetId": 522275,
     "sourceId": 959195,
     "sourceType": "datasetVersion"
    }
   ],
   "dockerImageVersionId": 30775,
   "isGpuEnabled": true,
   "isInternetEnabled": false,
   "language": "python",
   "sourceType": "notebook"
  },
  "kernelspec": {
   "display_name": "Python 3",
   "language": "python",
   "name": "python3"
  },
  "language_info": {
   "codemirror_mode": {
    "name": "ipython",
    "version": 3
   },
   "file_extension": ".py",
   "mimetype": "text/x-python",
   "name": "python",
   "nbconvert_exporter": "python",
   "pygments_lexer": "ipython3",
   "version": "3.11.2"
  }
 },
 "nbformat": 4,
 "nbformat_minor": 4
}
